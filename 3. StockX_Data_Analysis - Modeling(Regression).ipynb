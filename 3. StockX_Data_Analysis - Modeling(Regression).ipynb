{
  "nbformat": 4,
  "nbformat_minor": 0,
  "metadata": {
    "colab": {
      "name": "StockX Regression 0126.ipynb",
      "provenance": [],
      "collapsed_sections": [
        "VBqEh7gR8PMr",
        "6lWWrQq-8Uh_"
      ]
    },
    "kernelspec": {
      "name": "python3",
      "display_name": "Python 3"
    },
    "language_info": {
      "name": "python"
    }
  },
  "cells": [
    {
      "cell_type": "markdown",
      "source": [
        "- To Do\n",
        "1. Order Date 변수랑 Previous Order Date 변수를 어떻게 머신러닝에 X로 입력시킬지 찾아보기"
      ],
      "metadata": {
        "id": "f3BjSA1SJz7H"
      }
    },
    {
      "cell_type": "markdown",
      "source": [
        "- 선행 프로젝트\n",
        "---\n",
        "1. stockx 동일한 데이터 이용한 프로젝트(Price Regression): https://ichi.pro/ko/meosin-leoning-eulo-stockx-undonghwa-gagyeog-yecheug-260157814980288\n",
        "2. stockx 동일한 데이터 이용한 프로젝트(Price Regression): https://www.kaggle.com/logannorman/stockx-sneaker-price-regression\n",
        "3. https://www.kaggle.com/hudsonstuck/stockx-data-contest\n",
        "4. 머신 러닝 기법을 활용한 한정판 운동화 리셀 여부 예측 및 수익성 평가 (서울대학교 대학원 석사 논문): https://s-space.snu.ac.kr/handle/10371/166432 \n",
        "=> SVM, Random Forest, Ensemble 등의 머신러닝 기법을 이용해서 특정 한정판 신발의 \"리셀 여부\"(Binary Classification) 예측함\n",
        "---\n",
        "- 선행 프로젝트 1,2,3에서 Price Regression을 하는 과정에서 Train/Test를 Split할 때 시계열성을 무시하고 Shuffle = True(사이킷런 train_test_split 함수에서 shuffle = True가 Default임)로 데이터를 나눴는데 이렇게 되면, 미래 정보가 훈련에 반영되는 Data Leakage 문제가 발생함. (1은 확실하지는 않음)\n",
        "- 그렇다면 나는 이거에 포인트를 두고, 시계열성을 반영해서 Train/Test를 시간 순서에 따라 나눠서 모델을 수립해보자!\n",
        "- 선행 프로젝트 2에서는 데이터셋 전체를 한 번에 Input으로 넣어서 Linear Regression에 돌림. => 실제로 StockX, Kream, SoldOut 등 신발 거래 어플에서는 Sneaker Name 별로 원하는 사이즈를 선택해서 거래가 이뤄짐. => Sneaker Name 별로 데이터프레임을 분리해서 Date Avg Sale Price를 Regression 하는 모델 수립하기 (해당 방법의 단점: 전체 데이터를 Sneaker Name에 따라 여러 개로 분리함에 따라 각 데이터프레임의 데이터 수가 최대 500여개로 데이터가 매우 적음,,,)\n",
        "- 선행 프로젝트에서 얻은 아이디어: Categorical 변수들을 One-Hot Encoding을 해서 사용했음"
      ],
      "metadata": {
        "id": "tR-_mBQ6fzHU"
      }
    },
    {
      "cell_type": "code",
      "source": [
        "from google.colab import drive\n",
        "drive.mount('/content/drive')"
      ],
      "metadata": {
        "colab": {
          "base_uri": "https://localhost:8080/"
        },
        "id": "rt8GV8NF6GJY",
        "outputId": "e104a682-9511-40de-e2d8-a34bf87f24a2"
      },
      "execution_count": null,
      "outputs": [
        {
          "output_type": "stream",
          "name": "stdout",
          "text": [
            "Drive already mounted at /content/drive; to attempt to forcibly remount, call drive.mount(\"/content/drive\", force_remount=True).\n"
          ]
        }
      ]
    },
    {
      "cell_type": "code",
      "execution_count": null,
      "metadata": {
        "id": "TsS5MrrX_vfE"
      },
      "outputs": [],
      "source": [
        "import pandas as pd"
      ]
    },
    {
      "cell_type": "markdown",
      "source": [
        "# 데이터 불러오기"
      ],
      "metadata": {
        "id": "VBqEh7gR8PMr"
      }
    },
    {
      "cell_type": "code",
      "source": [
        "df_og = pd.read_csv('/content/drive/MyDrive/PersonalProject/sneakers/stockx_final.csv', encoding = 'utf-8-sig')\n",
        "df_og.drop(columns = ['Unnamed: 0'], inplace = True)"
      ],
      "metadata": {
        "id": "KhdjTN3ZADt3"
      },
      "execution_count": null,
      "outputs": []
    },
    {
      "cell_type": "code",
      "source": [
        "df = df_og.copy()\n",
        "df.head()"
      ],
      "metadata": {
        "colab": {
          "base_uri": "https://localhost:8080/"
        },
        "id": "ggPi0rlRAIb9",
        "outputId": "79aebeeb-d685-406c-dee6-e67f2264b816"
      },
      "execution_count": null,
      "outputs": [
        {
          "output_type": "execute_result",
          "data": {
            "text/html": [
              "\n",
              "  <div id=\"df-6d295454-67e4-4be2-92fc-dfbdc1d29e1d\">\n",
              "    <div class=\"colab-df-container\">\n",
              "      <div>\n",
              "<style scoped>\n",
              "    .dataframe tbody tr th:only-of-type {\n",
              "        vertical-align: middle;\n",
              "    }\n",
              "\n",
              "    .dataframe tbody tr th {\n",
              "        vertical-align: top;\n",
              "    }\n",
              "\n",
              "    .dataframe thead th {\n",
              "        text-align: right;\n",
              "    }\n",
              "</style>\n",
              "<table border=\"1\" class=\"dataframe\">\n",
              "  <thead>\n",
              "    <tr style=\"text-align: right;\">\n",
              "      <th></th>\n",
              "      <th>Order Date</th>\n",
              "      <th>Brand</th>\n",
              "      <th>Sneaker Name</th>\n",
              "      <th>Sale Price</th>\n",
              "      <th>Retail Price</th>\n",
              "      <th>Release Date</th>\n",
              "      <th>Shoe Size</th>\n",
              "      <th>Buyer Region</th>\n",
              "      <th>Date Avg Sale Price</th>\n",
              "      <th>Days After Release</th>\n",
              "      <th>Previous Order Date</th>\n",
              "    </tr>\n",
              "  </thead>\n",
              "  <tbody>\n",
              "    <tr>\n",
              "      <th>0</th>\n",
              "      <td>2017-11-16</td>\n",
              "      <td>Yeezy</td>\n",
              "      <td>Adidas Yeezy Boost 350 V2 Beluga 2pt0</td>\n",
              "      <td>600</td>\n",
              "      <td>220</td>\n",
              "      <td>2017-11-25</td>\n",
              "      <td>310</td>\n",
              "      <td>Michigan</td>\n",
              "      <td>633</td>\n",
              "      <td>-9</td>\n",
              "      <td>2019-02-13</td>\n",
              "    </tr>\n",
              "    <tr>\n",
              "      <th>1</th>\n",
              "      <td>2017-11-17</td>\n",
              "      <td>Yeezy</td>\n",
              "      <td>Adidas Yeezy Boost 350 V2 Beluga 2pt0</td>\n",
              "      <td>605</td>\n",
              "      <td>220</td>\n",
              "      <td>2017-11-25</td>\n",
              "      <td>290</td>\n",
              "      <td>Tennessee</td>\n",
              "      <td>618</td>\n",
              "      <td>-8</td>\n",
              "      <td>2017-11-16</td>\n",
              "    </tr>\n",
              "    <tr>\n",
              "      <th>2</th>\n",
              "      <td>2017-11-18</td>\n",
              "      <td>Yeezy</td>\n",
              "      <td>Adidas Yeezy Boost 350 V2 Beluga 2pt0</td>\n",
              "      <td>679</td>\n",
              "      <td>220</td>\n",
              "      <td>2017-11-25</td>\n",
              "      <td>250</td>\n",
              "      <td>New Jersey</td>\n",
              "      <td>633</td>\n",
              "      <td>-7</td>\n",
              "      <td>2017-11-17</td>\n",
              "    </tr>\n",
              "    <tr>\n",
              "      <th>3</th>\n",
              "      <td>2017-11-19</td>\n",
              "      <td>Yeezy</td>\n",
              "      <td>Adidas Yeezy Boost 350 V2 Beluga 2pt0</td>\n",
              "      <td>600</td>\n",
              "      <td>220</td>\n",
              "      <td>2017-11-25</td>\n",
              "      <td>270</td>\n",
              "      <td>Washington</td>\n",
              "      <td>594</td>\n",
              "      <td>-6</td>\n",
              "      <td>2017-11-18</td>\n",
              "    </tr>\n",
              "    <tr>\n",
              "      <th>4</th>\n",
              "      <td>2017-11-20</td>\n",
              "      <td>Yeezy</td>\n",
              "      <td>Adidas Yeezy Boost 350 V2 Beluga 2pt0</td>\n",
              "      <td>598</td>\n",
              "      <td>220</td>\n",
              "      <td>2017-11-25</td>\n",
              "      <td>290</td>\n",
              "      <td>California</td>\n",
              "      <td>566</td>\n",
              "      <td>-5</td>\n",
              "      <td>2017-11-19</td>\n",
              "    </tr>\n",
              "  </tbody>\n",
              "</table>\n",
              "</div>\n",
              "      <button class=\"colab-df-convert\" onclick=\"convertToInteractive('df-6d295454-67e4-4be2-92fc-dfbdc1d29e1d')\"\n",
              "              title=\"Convert this dataframe to an interactive table.\"\n",
              "              style=\"display:none;\">\n",
              "        \n",
              "  <svg xmlns=\"http://www.w3.org/2000/svg\" height=\"24px\"viewBox=\"0 0 24 24\"\n",
              "       width=\"24px\">\n",
              "    <path d=\"M0 0h24v24H0V0z\" fill=\"none\"/>\n",
              "    <path d=\"M18.56 5.44l.94 2.06.94-2.06 2.06-.94-2.06-.94-.94-2.06-.94 2.06-2.06.94zm-11 1L8.5 8.5l.94-2.06 2.06-.94-2.06-.94L8.5 2.5l-.94 2.06-2.06.94zm10 10l.94 2.06.94-2.06 2.06-.94-2.06-.94-.94-2.06-.94 2.06-2.06.94z\"/><path d=\"M17.41 7.96l-1.37-1.37c-.4-.4-.92-.59-1.43-.59-.52 0-1.04.2-1.43.59L10.3 9.45l-7.72 7.72c-.78.78-.78 2.05 0 2.83L4 21.41c.39.39.9.59 1.41.59.51 0 1.02-.2 1.41-.59l7.78-7.78 2.81-2.81c.8-.78.8-2.07 0-2.86zM5.41 20L4 18.59l7.72-7.72 1.47 1.35L5.41 20z\"/>\n",
              "  </svg>\n",
              "      </button>\n",
              "      \n",
              "  <style>\n",
              "    .colab-df-container {\n",
              "      display:flex;\n",
              "      flex-wrap:wrap;\n",
              "      gap: 12px;\n",
              "    }\n",
              "\n",
              "    .colab-df-convert {\n",
              "      background-color: #E8F0FE;\n",
              "      border: none;\n",
              "      border-radius: 50%;\n",
              "      cursor: pointer;\n",
              "      display: none;\n",
              "      fill: #1967D2;\n",
              "      height: 32px;\n",
              "      padding: 0 0 0 0;\n",
              "      width: 32px;\n",
              "    }\n",
              "\n",
              "    .colab-df-convert:hover {\n",
              "      background-color: #E2EBFA;\n",
              "      box-shadow: 0px 1px 2px rgba(60, 64, 67, 0.3), 0px 1px 3px 1px rgba(60, 64, 67, 0.15);\n",
              "      fill: #174EA6;\n",
              "    }\n",
              "\n",
              "    [theme=dark] .colab-df-convert {\n",
              "      background-color: #3B4455;\n",
              "      fill: #D2E3FC;\n",
              "    }\n",
              "\n",
              "    [theme=dark] .colab-df-convert:hover {\n",
              "      background-color: #434B5C;\n",
              "      box-shadow: 0px 1px 3px 1px rgba(0, 0, 0, 0.15);\n",
              "      filter: drop-shadow(0px 1px 2px rgba(0, 0, 0, 0.3));\n",
              "      fill: #FFFFFF;\n",
              "    }\n",
              "  </style>\n",
              "\n",
              "      <script>\n",
              "        const buttonEl =\n",
              "          document.querySelector('#df-6d295454-67e4-4be2-92fc-dfbdc1d29e1d button.colab-df-convert');\n",
              "        buttonEl.style.display =\n",
              "          google.colab.kernel.accessAllowed ? 'block' : 'none';\n",
              "\n",
              "        async function convertToInteractive(key) {\n",
              "          const element = document.querySelector('#df-6d295454-67e4-4be2-92fc-dfbdc1d29e1d');\n",
              "          const dataTable =\n",
              "            await google.colab.kernel.invokeFunction('convertToInteractive',\n",
              "                                                     [key], {});\n",
              "          if (!dataTable) return;\n",
              "\n",
              "          const docLinkHtml = 'Like what you see? Visit the ' +\n",
              "            '<a target=\"_blank\" href=https://colab.research.google.com/notebooks/data_table.ipynb>data table notebook</a>'\n",
              "            + ' to learn more about interactive tables.';\n",
              "          element.innerHTML = '';\n",
              "          dataTable['output_type'] = 'display_data';\n",
              "          await google.colab.output.renderOutput(dataTable, element);\n",
              "          const docLink = document.createElement('div');\n",
              "          docLink.innerHTML = docLinkHtml;\n",
              "          element.appendChild(docLink);\n",
              "        }\n",
              "      </script>\n",
              "    </div>\n",
              "  </div>\n",
              "  "
            ],
            "text/plain": [
              "   Order Date  Brand  ... Days After Release  Previous Order Date\n",
              "0  2017-11-16  Yeezy  ...                 -9           2019-02-13\n",
              "1  2017-11-17  Yeezy  ...                 -8           2017-11-16\n",
              "2  2017-11-18  Yeezy  ...                 -7           2017-11-17\n",
              "3  2017-11-19  Yeezy  ...                 -6           2017-11-18\n",
              "4  2017-11-20  Yeezy  ...                 -5           2017-11-19\n",
              "\n",
              "[5 rows x 11 columns]"
            ]
          },
          "metadata": {},
          "execution_count": 18
        }
      ]
    },
    {
      "cell_type": "code",
      "source": [
        "df.info()"
      ],
      "metadata": {
        "colab": {
          "base_uri": "https://localhost:8080/"
        },
        "id": "vHsrIm54A-Tq",
        "outputId": "94bdf65a-bc42-44e2-c5de-c3cf9f7266da"
      },
      "execution_count": null,
      "outputs": [
        {
          "output_type": "stream",
          "name": "stdout",
          "text": [
            "<class 'pandas.core.frame.DataFrame'>\n",
            "RangeIndex: 5116 entries, 0 to 5115\n",
            "Data columns (total 11 columns):\n",
            " #   Column               Non-Null Count  Dtype \n",
            "---  ------               --------------  ----- \n",
            " 0   Order Date           5116 non-null   object\n",
            " 1   Brand                5116 non-null   object\n",
            " 2   Sneaker Name         5116 non-null   object\n",
            " 3   Sale Price           5116 non-null   int64 \n",
            " 4   Retail Price         5116 non-null   int64 \n",
            " 5   Release Date         5116 non-null   object\n",
            " 6   Shoe Size            5116 non-null   int64 \n",
            " 7   Buyer Region         5116 non-null   object\n",
            " 8   Date Avg Sale Price  5116 non-null   int64 \n",
            " 9   Days After Release   5116 non-null   int64 \n",
            " 10  Previous Order Date  5116 non-null   object\n",
            "dtypes: int64(5), object(6)\n",
            "memory usage: 439.8+ KB\n"
          ]
        }
      ]
    },
    {
      "cell_type": "markdown",
      "source": [
        "- **주의!! 모델에 넣기 전에 string(object) 형태의 변수(Column)들은 원핫 인코딩 등을 통해 숫자 형태로 값을 바꿔줘야 한다!!!**\n",
        "- 아무 생각없이 문자열 그대로 둔 상태로 Keras 모델 수립해보니까 인풋 데이터 형태가 잘못됐다고 모델이 돌아가지가 않더라"
      ],
      "metadata": {
        "id": "o0MIg3xyJXcx"
      }
    },
    {
      "cell_type": "code",
      "source": [
        "# 시계열 분석을 위해 Order Date 기준으로 정렬\n",
        "df.sort_values(by = 'Order Date', inplace = True) "
      ],
      "metadata": {
        "id": "fJEeH_GrpQgB"
      },
      "execution_count": null,
      "outputs": []
    },
    {
      "cell_type": "markdown",
      "source": [
        "- 만약 Sneaker Name을 독립 변수로 사용하게 되면 발생하는 문제점: Train/Valid/Test Set을 Order Date를 기준으로 순서대로 나누게 되는데, 그렇게 되면 Release Date가 비교적 최근인 Sneaker Name들은 Train에 사용되지 못해서 모델이 Date Avg Sale Price를 올바르게 예측하지 못하게 된다."
      ],
      "metadata": {
        "id": "_00xdnVlpiLd"
      }
    },
    {
      "cell_type": "code",
      "source": [
        "# Order Date 별로 몇 개의 Sneaker Name이 존재하는지 확인하기\n",
        "df.groupby(df['Order Date']).count()['Sneaker Name'].describe()"
      ],
      "metadata": {
        "colab": {
          "base_uri": "https://localhost:8080/"
        },
        "id": "BsAl_ATOpYE1",
        "outputId": "7fefc50d-a2b9-4377-e4b3-a6f867617b00"
      },
      "execution_count": null,
      "outputs": [
        {
          "output_type": "execute_result",
          "data": {
            "text/plain": [
              "count    531.000000\n",
              "mean       9.634652\n",
              "std        4.164795\n",
              "min        2.000000\n",
              "25%        7.000000\n",
              "50%       10.000000\n",
              "75%       12.000000\n",
              "max       18.000000\n",
              "Name: Sneaker Name, dtype: float64"
            ]
          },
          "metadata": {},
          "execution_count": 21
        }
      ]
    },
    {
      "cell_type": "code",
      "source": [
        "df['Sneaker Name'].value_counts()"
      ],
      "metadata": {
        "colab": {
          "base_uri": "https://localhost:8080/"
        },
        "id": "bFu5bbifq83o",
        "outputId": "ecb531cc-3181-4fdf-b16c-cab0b2532002"
      },
      "execution_count": null,
      "outputs": [
        {
          "output_type": "execute_result",
          "data": {
            "text/plain": [
              "Adidas Yeezy Boost 350 V2 Cream White                531\n",
              "Adidas Yeezy Boost 350 V2 Zebra                      531\n",
              "Adidas Yeezy Boost 350 V2 Beluga 2pt0                455\n",
              "Adidas Yeezy Boost 350 V2 Blue Tint                  432\n",
              "Air Jordan 1 Retro High Off White University Blue    270\n",
              "Nike Air VaporMax Off White 2018                     270\n",
              "adidas Yeezy Boost 350 V2 Butter                     240\n",
              "Nike Air Presto Off White White 2018                 215\n",
              "Nike Air Presto Off White Black 2018                 206\n",
              "Nike Air VaporMax Off White Black                    192\n",
              "Adidas Yeezy Boost 350 V2 Semi Frozen Yellow         173\n",
              "Nike Blazer Mid Off White All Hallows Eve            148\n",
              "Nike Blazer Mid Off White Grim Reaper                148\n",
              "Nike Air Presto Off White                            128\n",
              "Adidas Yeezy Boost 350 V2 Core Black Red 2017         98\n",
              "Adidas Yeezy Boost 350 V2 Sesame                      95\n",
              "Air Jordan 1 Retro High Off White Chicago             90\n",
              "Nike Zoom Fly Mercurial Off White Black               86\n",
              "Nike React Hyperdunk 2017 Flyknit Off White           86\n",
              "Nike Air Max 97 Off White                             83\n",
              "Nike Zoom Fly Off White Black Silver                  80\n",
              "Nike Zoom Fly Off White Pink                          80\n",
              "Nike Zoom Fly Mercurial Off White Total Orange        67\n",
              "Nike Air Force 1 Low Off White Volt                   64\n",
              "Nike Blazer Mid Off White                             63\n",
              "adidas Yeezy Boost 350 V2 Static                      63\n",
              "Nike Air Force 1 Low Off White Black White            59\n",
              "Nike Air Force 1 Low Off White                        56\n",
              "adidas Yeezy Boost 350 V2 Static Reflective           54\n",
              "Nike Air Max 90 Off White                             53\n",
              "Name: Sneaker Name, dtype: int64"
            ]
          },
          "metadata": {},
          "execution_count": 22
        }
      ]
    },
    {
      "cell_type": "markdown",
      "source": [
        "# 데이터 전처리\n",
        "- Sneaker Name 별로 데이터 프레임을 분리해서 각 Sneaker Name 별로 예측 모델 수립할 예정"
      ],
      "metadata": {
        "id": "6lWWrQq-8Uh_"
      }
    },
    {
      "cell_type": "code",
      "source": [
        "# 전체 데이터를 Sneaker Name별로 데이터 프레임 분리해서 리스트에 넣기\n",
        "names = df['Sneaker Name'].unique().tolist()\n",
        "\n",
        "df_list = []\n",
        "for name in names:\n",
        "  temp_df = df[df['Sneaker Name'] == name]\n",
        "  temp_df.reset_index(drop = True, inplace = True)\n",
        "  df_list.append(temp_df) # Sneaker Name별로 데이터프레임 불러오는 거는 df_list[0], df_list[1]과 같이 불러올 수 있음\n",
        "\n",
        "len(df_list)"
      ],
      "metadata": {
        "colab": {
          "base_uri": "https://localhost:8080/"
        },
        "id": "pI3hJ2UcrhjT",
        "outputId": "04af8268-47a1-4c3e-c7cf-b2d8fa6b275d"
      },
      "execution_count": null,
      "outputs": [
        {
          "output_type": "execute_result",
          "data": {
            "text/plain": [
              "30"
            ]
          },
          "metadata": {},
          "execution_count": 23
        }
      ]
    },
    {
      "cell_type": "code",
      "source": [
        "# names[0]에 해당하는 Sneaker Name의 Date Avg Sale Price Regression 모델 수립하기\n",
        "# 이 블록부터 코드는 추후에 사용자 정의 함수 형태나 클래스 형태로 만들어서 사용하기!!!\n",
        "\n",
        "# Converting dates into numericals\n",
        "import datetime as dt\n",
        "df_list[0]['Order Date'] = pd.to_datetime(df_list[0]['Order Date'])\n",
        "df_list[0]['Order Date']=df_list[0]['Order Date'].map(dt.datetime.toordinal)\n",
        "\n",
        "df_list[0]['Previous Order Date'] = pd.to_datetime(df_list[0]['Previous Order Date'])\n",
        "df_list[0]['Previous Order Date']=df_list[0]['Previous Order Date'].map(dt.datetime.toordinal)\n",
        "\n",
        "# Sneaker Name 무엇인지 저장 \n",
        "sneaker_name = df_list[0]['Sneaker Name'].unique()[0]\n",
        "\n",
        "# Retail Price 저장 \n",
        "retail_price = df_list[0]['Retail Price'].unique()[0]\n",
        "\n",
        "# Brand 저장 \n",
        "brand = df_list[0]['Brand'].unique()[0]\n",
        "\n",
        "# Release Date 저장\n",
        "release_date = df_list[0]['Release Date'].unique()[0]\n",
        "\n",
        "# Sneaker Name, Retail Price, Brand 변수 데이터프레임에서 지우기 (지우는 이유: 특정 Sneaker Name의 Date Avg Sale Price를 예측하는데, Sneaker Name과 Retail Price는 고정된 값이라서 모델 성능 향상에 영향 X)\n",
        "df_list[0].drop(columns = ['Sneaker Name', 'Retail Price', 'Brand', 'Release Date'], axis = 1, inplace = True)"
      ],
      "metadata": {
        "colab": {
          "base_uri": "https://localhost:8080/"
        },
        "id": "2zr_PD53sBOf",
        "outputId": "62dc7cd3-d76e-4bd1-dee7-cefe1ba937b5"
      },
      "execution_count": null,
      "outputs": [
        {
          "output_type": "stream",
          "name": "stderr",
          "text": [
            "/usr/local/lib/python3.7/dist-packages/ipykernel_launcher.py:6: SettingWithCopyWarning: \n",
            "A value is trying to be set on a copy of a slice from a DataFrame.\n",
            "Try using .loc[row_indexer,col_indexer] = value instead\n",
            "\n",
            "See the caveats in the documentation: https://pandas.pydata.org/pandas-docs/stable/user_guide/indexing.html#returning-a-view-versus-a-copy\n",
            "  \n",
            "/usr/local/lib/python3.7/dist-packages/ipykernel_launcher.py:7: SettingWithCopyWarning: \n",
            "A value is trying to be set on a copy of a slice from a DataFrame.\n",
            "Try using .loc[row_indexer,col_indexer] = value instead\n",
            "\n",
            "See the caveats in the documentation: https://pandas.pydata.org/pandas-docs/stable/user_guide/indexing.html#returning-a-view-versus-a-copy\n",
            "  import sys\n",
            "/usr/local/lib/python3.7/dist-packages/ipykernel_launcher.py:9: SettingWithCopyWarning: \n",
            "A value is trying to be set on a copy of a slice from a DataFrame.\n",
            "Try using .loc[row_indexer,col_indexer] = value instead\n",
            "\n",
            "See the caveats in the documentation: https://pandas.pydata.org/pandas-docs/stable/user_guide/indexing.html#returning-a-view-versus-a-copy\n",
            "  if __name__ == '__main__':\n",
            "/usr/local/lib/python3.7/dist-packages/ipykernel_launcher.py:10: SettingWithCopyWarning: \n",
            "A value is trying to be set on a copy of a slice from a DataFrame.\n",
            "Try using .loc[row_indexer,col_indexer] = value instead\n",
            "\n",
            "See the caveats in the documentation: https://pandas.pydata.org/pandas-docs/stable/user_guide/indexing.html#returning-a-view-versus-a-copy\n",
            "  # Remove the CWD from sys.path while we load stuff.\n",
            "/usr/local/lib/python3.7/dist-packages/pandas/core/frame.py:4174: SettingWithCopyWarning: \n",
            "A value is trying to be set on a copy of a slice from a DataFrame\n",
            "\n",
            "See the caveats in the documentation: https://pandas.pydata.org/pandas-docs/stable/user_guide/indexing.html#returning-a-view-versus-a-copy\n",
            "  errors=errors,\n"
          ]
        }
      ]
    },
    {
      "cell_type": "code",
      "source": [
        "df_list[0].dtypes"
      ],
      "metadata": {
        "colab": {
          "base_uri": "https://localhost:8080/"
        },
        "id": "nL4vWv9ds9Ck",
        "outputId": "d505b165-34f6-4115-ee33-62e6774f78fe"
      },
      "execution_count": null,
      "outputs": [
        {
          "output_type": "execute_result",
          "data": {
            "text/plain": [
              "Order Date              int64\n",
              "Sale Price              int64\n",
              "Shoe Size               int64\n",
              "Buyer Region           object\n",
              "Date Avg Sale Price     int64\n",
              "Days After Release      int64\n",
              "Previous Order Date     int64\n",
              "dtype: object"
            ]
          },
          "metadata": {},
          "execution_count": 26
        }
      ]
    },
    {
      "cell_type": "markdown",
      "source": [
        "# Regression Modeling"
      ],
      "metadata": {
        "id": "mDuz2ZHR9TaH"
      }
    },
    {
      "cell_type": "markdown",
      "source": [
        "## Split X/Y * Train/Valid/Test Set"
      ],
      "metadata": {
        "id": "38iBSjuS9WJs"
      }
    },
    {
      "cell_type": "code",
      "source": [
        "# x,y 나누기\n",
        "x = df_list[0].drop(columns= ['Date Avg Sale Price'], axis = 1)\n",
        "y = df_list[0]['Date Avg Sale Price']\n",
        "print(x.shape, y.shape)"
      ],
      "metadata": {
        "colab": {
          "base_uri": "https://localhost:8080/"
        },
        "id": "BLN5vW3nC5j1",
        "outputId": "8bb6e505-ccf8-4eb2-a493-aacb49022baa"
      },
      "execution_count": null,
      "outputs": [
        {
          "output_type": "stream",
          "name": "stdout",
          "text": [
            "(531, 6) (531,)\n"
          ]
        }
      ]
    },
    {
      "cell_type": "code",
      "source": [
        "len(x)"
      ],
      "metadata": {
        "colab": {
          "base_uri": "https://localhost:8080/"
        },
        "id": "NAvIZZ8Mt7S7",
        "outputId": "19984088-7032-4ba1-cde6-e83d53be498a"
      },
      "execution_count": null,
      "outputs": [
        {
          "output_type": "execute_result",
          "data": {
            "text/plain": [
              "531"
            ]
          },
          "metadata": {},
          "execution_count": 59
        }
      ]
    },
    {
      "cell_type": "code",
      "source": [
        "# 시계열 데이터는 과거 데이터부터 순서대로 Train/Valid/Test Set 나눠줘야 한다\n",
        "# Train/Valid/Test .6 : .2 : .2로 나누기\n",
        "\n",
        "train_cnt = int(len(x) * .6)\n",
        "valid_cnt = int(len(x) * .8)\n",
        "test_cnt = len(x)\n",
        "\n",
        "train_x = x.iloc[:train_cnt,:]\n",
        "valid_x = x.iloc[train_cnt:valid_cnt,:]\n",
        "valid_x.reset_index(drop = True, inplace = True)\n",
        "test_x = x.iloc[valid_cnt:,:]\n",
        "test_x.reset_index(drop = True, inplace = True)\n",
        "\n",
        "train_y = y[:train_cnt]\n",
        "valid_y = y[train_cnt:valid_cnt]\n",
        "test_y = y[valid_cnt:]\n",
        "\n",
        "print((train_x.shape, train_y.shape))\n",
        "print((valid_x.shape, valid_y.shape))\n",
        "print((test_x.shape, test_y.shape))"
      ],
      "metadata": {
        "colab": {
          "base_uri": "https://localhost:8080/"
        },
        "id": "e6Yda2RxC3Ic",
        "outputId": "9fef2727-49a5-4a09-fdf5-4a0428f5db9e"
      },
      "execution_count": null,
      "outputs": [
        {
          "output_type": "stream",
          "name": "stdout",
          "text": [
            "((318, 6), (318,))\n",
            "((106, 6), (106,))\n",
            "((107, 6), (107,))\n"
          ]
        }
      ]
    },
    {
      "cell_type": "markdown",
      "source": [
        "## Several Regression Model Try"
      ],
      "metadata": {
        "id": "4by9MtMQJqjQ"
      }
    },
    {
      "cell_type": "markdown",
      "source": [
        "### Artificial Neural Networks"
      ],
      "metadata": {
        "id": "ae3CiJSH9xYC"
      }
    },
    {
      "cell_type": "code",
      "source": [
        "# 문자열인 \"Buyer Region\" 변수를 One-hot Encoder를 통해 One-Hot Vector로 변환\n",
        "# One-Hot Encoder 사용 예시 참고: https://psystat.tistory.com/136\n",
        "# 주의! Train/Test를 나눈 후에 Encoder를 통해 Categorical 변수를 Vector화시킨다!\n",
        "# LabelEncoder는 Target Value에 적용해야하지, input인 x에 적용하면 안 된다고 함!!! (참고: https://stackoverflow.com/questions/61217713/labelencoder-for-categorical-features/61217936#61217936)\n",
        "\n",
        "from sklearn.preprocessing import OneHotEncoder\n",
        "\n",
        "ohe = OneHotEncoder(sparse = False, handle_unknown= 'ignore') # handle_unknown = 'ignore': Train 데이터를 기준으로 OneHot Encoder가 Fit하는데, Valid나 Test Set에서 Train 데이터에서 못 본 데이터가 있을 경우, 해당 Categorical Value는 0, 0, 0, ..., 0 과 같이 다 값이 0인 벡터로 바꿈\n",
        "train_cat = ohe.fit_transform(train_x[['Buyer Region']])\n",
        "valid_cat = ohe.transform(valid_x[['Buyer Region']])\n",
        "test_cat = ohe.transform(test_x[['Buyer Region']])\n",
        "\n",
        "# Buyer Region 변수를 OneHot Encoding 적용한 후 원래 데이터 프레임에 합쳐주기\n",
        "oh_train_df = pd.DataFrame(train_cat, columns = ['Buyer Region_' + col for col in ohe.categories_[0]])\n",
        "train_x = pd.concat([train_x.drop(columns = ['Buyer Region']), oh_train_df], axis = 1)\n",
        "\n",
        "oh_valid_df = pd.DataFrame(valid_cat, columns = ['Buyer Region_' + col for col in ohe.categories_[0]])\n",
        "valid_x = pd.concat([valid_x.drop(columns = ['Buyer Region']), oh_valid_df], axis = 1)\n",
        "\n",
        "oh_test_df = pd.DataFrame(test_cat, columns = ['Buyer Region_' + col for col in ohe.categories_[0]])\n",
        "test_x = pd.concat([test_x.drop(columns = ['Buyer Region']), oh_test_df], axis = 1)\n",
        "\n",
        "print((train_x.shape, train_y.shape))\n",
        "print((valid_x.shape, valid_y.shape))\n",
        "print((test_x.shape, test_y.shape))\n"
      ],
      "metadata": {
        "id": "6QV21s85wwxX",
        "colab": {
          "base_uri": "https://localhost:8080/"
        },
        "outputId": "89c6c372-2c7b-4b1e-be20-08971a18ab13"
      },
      "execution_count": null,
      "outputs": [
        {
          "output_type": "stream",
          "name": "stdout",
          "text": [
            "((318, 45), (318,))\n",
            "((106, 45), (106,))\n",
            "((107, 45), (107,))\n"
          ]
        }
      ]
    },
    {
      "cell_type": "code",
      "source": [
        "import torch\n",
        "import torch.nn as nn\n",
        "import torch.nn.functional as F\n",
        "import torch.optim as optim"
      ],
      "metadata": {
        "id": "UO6gEqES93g3"
      },
      "execution_count": null,
      "outputs": []
    },
    {
      "cell_type": "code",
      "source": [
        "train_x = torch.from_numpy(train_x.values).float()\n",
        "train_y = torch.from_numpy(train_y.values).float()\n",
        "valid_x = torch.from_numpy(valid_x.values).float()\n",
        "valid_y = torch.from_numpy(valid_y.values).float()\n",
        "test_x = torch.from_numpy(test_x.values).float()\n",
        "test_y = torch.from_numpy(test_y.values).float()\n",
        "\n",
        "print(train_x.shape, train_y.shape)\n",
        "print(valid_x.shape, valid_y.shape)\n",
        "print(test_x.shape, test_y.shape)"
      ],
      "metadata": {
        "colab": {
          "base_uri": "https://localhost:8080/"
        },
        "id": "_UxHF611CGNv",
        "outputId": "2fecb38c-54ab-4019-8001-7a69aa29fafe"
      },
      "execution_count": null,
      "outputs": [
        {
          "output_type": "stream",
          "name": "stdout",
          "text": [
            "torch.Size([318, 45]) torch.Size([318])\n",
            "torch.Size([106, 45]) torch.Size([106])\n",
            "torch.Size([107, 45]) torch.Size([107])\n"
          ]
        }
      ]
    },
    {
      "cell_type": "code",
      "source": [
        "# 의문점: 원래 Categorical이던 Order Date, Previous Order Date 두 변수를 Numerical로 바꿨는데, 이 두 변수도 Standard Scaler를 적용해도 되나?\n",
        "from sklearn.preprocessing import StandardScaler \n",
        "scaler = StandardScaler()\n",
        "scaler.fit(train_x.numpy())\n",
        "\n",
        "train_x = torch.from_numpy(scaler.transform(train_x.numpy())).float()\n",
        "valid_x = torch.from_numpy(scaler.transform(valid_x.numpy())).float()\n",
        "test_x = torch.from_numpy(scaler.transform(test_x.numpy())).float()"
      ],
      "metadata": {
        "id": "3bhlVksVCbAO"
      },
      "execution_count": null,
      "outputs": []
    },
    {
      "cell_type": "code",
      "source": [
        "model = nn.Sequential(\n",
        "    nn.Linear(train_x.size(-1),8),\n",
        "    nn.LeakyReLU(),\n",
        "    nn.Linear(8,4),\n",
        "    nn.LeakyReLU(),\n",
        "    nn.Linear(4,1)\n",
        ")\n",
        "\n",
        "model"
      ],
      "metadata": {
        "colab": {
          "base_uri": "https://localhost:8080/"
        },
        "id": "L2XipvEXCzuf",
        "outputId": "00bca256-1152-4d24-d214-4ab3517e3383"
      },
      "execution_count": null,
      "outputs": [
        {
          "output_type": "execute_result",
          "data": {
            "text/plain": [
              "Sequential(\n",
              "  (0): Linear(in_features=45, out_features=8, bias=True)\n",
              "  (1): LeakyReLU(negative_slope=0.01)\n",
              "  (2): Linear(in_features=8, out_features=4, bias=True)\n",
              "  (3): LeakyReLU(negative_slope=0.01)\n",
              "  (4): Linear(in_features=4, out_features=1, bias=True)\n",
              ")"
            ]
          },
          "metadata": {},
          "execution_count": 176
        }
      ]
    },
    {
      "cell_type": "code",
      "source": [
        "optimizer = optim.Adam(model.parameters())\n",
        "n_epochs = 1000\n",
        "batch_size = 2\n",
        "print_interval = 100"
      ],
      "metadata": {
        "id": "qZke6_YLDXmO"
      },
      "execution_count": null,
      "outputs": []
    },
    {
      "cell_type": "code",
      "source": [
        "import numpy as np\n",
        "from copy import deepcopy\n",
        "\n",
        "lowest_loss = np.inf\n",
        "best_model = None\n",
        "early_stop = 100\n",
        "lowest_epoch = np.inf"
      ],
      "metadata": {
        "id": "yrSnnsv_DozM"
      },
      "execution_count": null,
      "outputs": []
    },
    {
      "cell_type": "code",
      "source": [
        "train_history, valid_history = [], []\n",
        "\n",
        "for i in range(n_epochs):\n",
        "    x_ = train_x.split(batch_size, dim = 0)\n",
        "    y_ = train_y.split(batch_size, dim = 0)\n",
        "    \n",
        "    train_loss, valid_loss = 0, 0\n",
        "    y_hat = []\n",
        "    \n",
        "    for x_i, y_i in zip(x_,y_):\n",
        "        y_hat_i = model(x_i)\n",
        "        loss = F.mse_loss(y_hat_i, y_i)\n",
        "        \n",
        "        optimizer.zero_grad()\n",
        "        loss.backward()\n",
        "        optimizer.step()\n",
        "        train_loss += float(loss)\n",
        "        \n",
        "    train_loss = train_loss/len(x_)\n",
        "    \n",
        "    with torch.no_grad():\n",
        "        x_ = valid_x.split(batch_size, dim = 0)\n",
        "        y_ = valid_y.split(batch_size, dim = 0)\n",
        "        \n",
        "        valid_loss = 0\n",
        "        \n",
        "        for x_i, y_i in zip(x_, y_):\n",
        "            y_hat_i = model(x_i)\n",
        "            loss = F.mse_loss(y_hat_i, y_i)\n",
        "            \n",
        "            valid_loss += loss\n",
        "            y_hat += [y_hat_i]\n",
        "            \n",
        "    valid_loss = valid_loss / len(x_)\n",
        "    \n",
        "    train_history += [train_loss]\n",
        "    valid_history += [valid_loss]\n",
        "    \n",
        "    if (i+1)%print_interval == 0:\n",
        "        print('Epoch {}: train loss = {:.4f}, valid_loss = {:.4f}, lowest_loss = {:.4f}'.format(i+1, train_loss, valid_loss, lowest_loss))\n",
        "    \n",
        "    if valid_loss <= lowest_loss:\n",
        "        lowest_loss = valid_loss\n",
        "        lowest_epoch = i\n",
        "        \n",
        "        best_model = deepcopy(model.state_dict())\n",
        "        \n",
        "    else:\n",
        "        if early_stop >0 and lowest_epoch + early_stop < i + 1:\n",
        "            print(\"There is no improvement during last %d epochs\"%early_stop)\n",
        "            break\n",
        "\n",
        "print(\"The best validation loss from epoch %d: %.4e\"%(lowest_epoch + 1, lowest_loss))\n",
        "\n",
        "model.load_state_dict(best_model)"
      ],
      "metadata": {
        "colab": {
          "base_uri": "https://localhost:8080/"
        },
        "id": "G9LwCFqxDu2D",
        "outputId": "be7552ff-251c-446f-c22f-12d37e2fc2d9"
      },
      "execution_count": null,
      "outputs": [
        {
          "output_type": "stream",
          "name": "stderr",
          "text": [
            "/usr/local/lib/python3.7/dist-packages/ipykernel_launcher.py:12: UserWarning: Using a target size (torch.Size([2])) that is different to the input size (torch.Size([2, 1])). This will likely lead to incorrect results due to broadcasting. Please ensure they have the same size.\n",
            "  if sys.path[0] == '':\n",
            "/usr/local/lib/python3.7/dist-packages/ipykernel_launcher.py:29: UserWarning: Using a target size (torch.Size([2])) that is different to the input size (torch.Size([2, 1])). This will likely lead to incorrect results due to broadcasting. Please ensure they have the same size.\n"
          ]
        },
        {
          "output_type": "stream",
          "name": "stdout",
          "text": [
            "Epoch 100: train loss = 888.5361, valid_loss = 2737.1877, lowest_loss = 2714.7852\n",
            "There is no improvement during last 100 epochs\n",
            "The best validation loss from epoch 89: 2.7148e+03\n"
          ]
        },
        {
          "output_type": "execute_result",
          "data": {
            "text/plain": [
              "<All keys matched successfully>"
            ]
          },
          "metadata": {},
          "execution_count": 179
        }
      ]
    },
    {
      "cell_type": "code",
      "source": [
        "import matplotlib.pyplot as plt\n",
        "\n",
        "plot_from = 0\n",
        "plt.figure(figsize=(10,5))\n",
        "plt.grid(True)\n",
        "plt.title(\"Train / Valid Loss History\")\n",
        "plt.plot(\n",
        "range(plot_from, len(train_history)), train_history[plot_from:],\n",
        "range(plot_from, len(valid_history)), valid_history[plot_from:],\n",
        ")\n",
        "plt.yscale('log')\n",
        "plt.show()"
      ],
      "metadata": {
        "colab": {
          "base_uri": "https://localhost:8080/",
          "height": 336
        },
        "id": "RQA_c-tuFTga",
        "outputId": "4b04619f-05b2-47fb-f416-22a6c545b68e"
      },
      "execution_count": null,
      "outputs": [
        {
          "output_type": "display_data",
          "data": {
            "image/png": "[encoded data removed]",
            "text/plain": [
              "<Figure size 720x360 with 1 Axes>"
            ]
          },
          "metadata": {
            "needs_background": "light"
          }
        }
      ]
    },
    {
      "cell_type": "code",
      "source": [
        "test_loss = 0\n",
        "y_hat = []\n",
        "\n",
        "with torch.no_grad():\n",
        "    x_ = test_x.split(batch_size, dim = 0)\n",
        "    y_ = test_y.split(batch_size, dim = 0)\n",
        "    \n",
        "    for x_i, y_i in zip(x_, y_):\n",
        "        y_hat_i = model(x_i)\n",
        "        loss = F.mse_loss(y_hat_i, y_i)\n",
        "        \n",
        "        test_loss += loss\n",
        "        \n",
        "        y_hat += [y_hat_i]\n",
        "\n",
        "test_loss = test_loss / len(x_)\n",
        "y_hat = torch.cat(y_hat, dim = 0)\n",
        "print(test_loss)"
      ],
      "metadata": {
        "colab": {
          "base_uri": "https://localhost:8080/"
        },
        "id": "LCaTfSFHFUVL",
        "outputId": "2ebfe37c-2756-45fe-e196-599bea413dde"
      },
      "execution_count": null,
      "outputs": [
        {
          "output_type": "stream",
          "name": "stdout",
          "text": [
            "tensor(6168.8184)\n"
          ]
        },
        {
          "output_type": "stream",
          "name": "stderr",
          "text": [
            "/usr/local/lib/python3.7/dist-packages/ipykernel_launcher.py:10: UserWarning: Using a target size (torch.Size([2])) that is different to the input size (torch.Size([2, 1])). This will likely lead to incorrect results due to broadcasting. Please ensure they have the same size.\n",
            "  # Remove the CWD from sys.path while we load stuff.\n",
            "/usr/local/lib/python3.7/dist-packages/ipykernel_launcher.py:10: UserWarning: Using a target size (torch.Size([1])) that is different to the input size (torch.Size([1, 1])). This will likely lead to incorrect results due to broadcasting. Please ensure they have the same size.\n",
            "  # Remove the CWD from sys.path while we load stuff.\n"
          ]
        }
      ]
    },
    {
      "cell_type": "code",
      "source": [
        "import seaborn as sns\n",
        "sns.scatterplot(test_y, y_hat.squeeze(), alpha = .4) \n",
        "plt.xlabel('Actual Avg Date Sale Price')\n",
        "plt.ylabel('Predictions')\n",
        "plt.show()"
      ],
      "metadata": {
        "colab": {
          "base_uri": "https://localhost:8080/",
          "height": 335
        },
        "id": "sTkbmVsMRy2v",
        "outputId": "071314d0-0c4e-4511-b944-1fcb9a224cd9"
      },
      "execution_count": null,
      "outputs": [
        {
          "output_type": "stream",
          "name": "stderr",
          "text": [
            "/usr/local/lib/python3.7/dist-packages/seaborn/_decorators.py:43: FutureWarning: Pass the following variables as keyword args: x, y. From version 0.12, the only valid positional argument will be `data`, and passing other arguments without an explicit keyword will result in an error or misinterpretation.\n",
            "  FutureWarning\n"
          ]
        },
        {
          "output_type": "display_data",
          "data": {
            "image/png": "[encoded data removed]",
            "text/plain": [
              "<Figure size 432x288 with 1 Axes>"
            ]
          },
          "metadata": {
            "needs_background": "light"
          }
        }
      ]
    },
    {
      "cell_type": "markdown",
      "source": [
        "### Random Forest Regression"
      ],
      "metadata": {
        "id": "ugGawB41GR6r"
      }
    },
    {
      "cell_type": "code",
      "source": [
        "# Train/Valid/Test로 나누지 않고 그냥 Train/Test로 나눠서 수립해보기\n",
        "train_x = pd.concat([train_x, valid_x], axis = 0)\n",
        "train_y = pd.concat([train_y, valid_y], axis = 0)\n",
        "\n",
        "train_x.reset_index(drop = True, inplace = True)\n",
        "\n",
        "print(train_x.shape, train_y.shape)"
      ],
      "metadata": {
        "colab": {
          "base_uri": "https://localhost:8080/"
        },
        "id": "I5lwV6GqOaFg",
        "outputId": "a590deff-c772-4ebd-bfb9-16698205bfa2"
      },
      "execution_count": null,
      "outputs": [
        {
          "output_type": "stream",
          "name": "stdout",
          "text": [
            "(424, 6) (424,)\n"
          ]
        }
      ]
    },
    {
      "cell_type": "code",
      "source": [
        "# 문자열인 \"Buyer Region\" 변수를 One-hot Encoder를 통해 One-Hot Vector로 변환\n",
        "# One-Hot Encoder 사용 예시 참고: https://psystat.tistory.com/136\n",
        "# 주의! Train/Test를 나눈 후에 Encoder를 통해 Categorical 변수를 Vector화시킨다!\n",
        "# LabelEncoder는 Target Value에 적용해야하지, input인 x에 적용하면 안 된다고 함!!! (참고: https://stackoverflow.com/questions/61217713/labelencoder-for-categorical-features/61217936#61217936)\n",
        "\n",
        "from sklearn.preprocessing import OneHotEncoder\n",
        "\n",
        "ohe = OneHotEncoder(sparse = False, handle_unknown= 'ignore') # handle_unknown = 'ignore': Train 데이터를 기준으로 OneHot Encoder가 Fit하는데, Valid나 Test Set에서 Train 데이터에서 못 본 데이터가 있을 경우, 해당 Categorical Value는 0, 0, 0, ..., 0 과 같이 다 값이 0인 벡터로 바꿈\n",
        "train_cat = ohe.fit_transform(train_x[['Buyer Region']])\n",
        "test_cat = ohe.transform(test_x[['Buyer Region']])\n",
        "\n",
        "# Buyer Region 변수를 OneHot Encoding 적용한 후 원래 데이터 프레임에 합쳐주기\n",
        "oh_train_df = pd.DataFrame(train_cat, columns = ['Buyer Region_' + col for col in ohe.categories_[0]])\n",
        "train_x = pd.concat([train_x.drop(columns = ['Buyer Region']), oh_train_df], axis = 1)\n",
        "\n",
        "oh_test_df = pd.DataFrame(test_cat, columns = ['Buyer Region_' + col for col in ohe.categories_[0]])\n",
        "test_x = pd.concat([test_x.drop(columns = ['Buyer Region']), oh_test_df], axis = 1)\n",
        "\n",
        "print((train_x.shape, train_y.shape))\n",
        "print((test_x.shape, test_y.shape))\n"
      ],
      "metadata": {
        "colab": {
          "base_uri": "https://localhost:8080/"
        },
        "id": "ns4wAn6AONSW",
        "outputId": "46f255b2-780d-4fb7-c414-927ad41b0bc1"
      },
      "execution_count": null,
      "outputs": [
        {
          "output_type": "stream",
          "name": "stdout",
          "text": [
            "((424, 47), (424,))\n",
            "((107, 47), (107,))\n"
          ]
        }
      ]
    },
    {
      "cell_type": "code",
      "source": [
        "from sklearn.ensemble import RandomForestRegressor\n",
        "from sklearn.metrics import mean_squared_error\n",
        "\n",
        "forest_reg = RandomForestRegressor()\n",
        "forest_reg.fit(train_x, train_y)\n",
        "y_predicted = forest_reg.predict(test_x)\n",
        "\n",
        "forest_reg_mse = mean_squared_error(test_y, y_predicted)\n",
        "forest_reg_rmse = np.sqrt(forest_reg_mse)\n",
        "\n",
        "print('Random Forest Regressor MSE: ',forest_reg_mse)\n",
        "print('Random Forest Regressor RMSE: ',forest_reg_rmse)"
      ],
      "metadata": {
        "colab": {
          "base_uri": "https://localhost:8080/"
        },
        "id": "-_BVplYGMIY1",
        "outputId": "bff6284a-bff5-4c9c-e9dd-4735f749545a"
      },
      "execution_count": null,
      "outputs": [
        {
          "output_type": "stream",
          "name": "stdout",
          "text": [
            "Random Forest Regressor MSE:  77.77437102803736\n",
            "Random Forest Regressor RMSE:  8.818977890211391\n"
          ]
        }
      ]
    },
    {
      "cell_type": "code",
      "source": [
        "import seaborn as sns\n",
        "sns.scatterplot(test_y, y_predicted, alpha = .4)\n",
        "plt.xlabel('Actual Avg Date Sale Price')\n",
        "plt.ylabel('Predictions')\n",
        "plt.ylim([test_y.min(),test_y.max()])\n",
        "plt.show()"
      ],
      "metadata": {
        "colab": {
          "base_uri": "https://localhost:8080/",
          "height": 335
        },
        "id": "1amZ4NRFO6cp",
        "outputId": "a1096c83-7f1b-49c7-f660-827fd43edfb4"
      },
      "execution_count": null,
      "outputs": [
        {
          "output_type": "stream",
          "name": "stderr",
          "text": [
            "/usr/local/lib/python3.7/dist-packages/seaborn/_decorators.py:43: FutureWarning: Pass the following variables as keyword args: x, y. From version 0.12, the only valid positional argument will be `data`, and passing other arguments without an explicit keyword will result in an error or misinterpretation.\n",
            "  FutureWarning\n"
          ]
        },
        {
          "output_type": "display_data",
          "data": {
            "image/png": "[encoded data removed]",
            "text/plain": [
              "<Figure size 432x288 with 1 Axes>"
            ]
          },
          "metadata": {
            "needs_background": "light"
          }
        }
      ]
    },
    {
      "cell_type": "markdown",
      "source": [
        "### (Other) Regressor"
      ],
      "metadata": {
        "id": "JiDAYEZ8QQss"
      }
    },
    {
      "cell_type": "code",
      "source": [
        "# Train/Valid/Test로 나누지 않고 그냥 Train/Test로 나눠서 수립해보기\n",
        "train_x = pd.concat([train_x, valid_x], axis = 0)\n",
        "train_y = pd.concat([train_y, valid_y], axis = 0)\n",
        "\n",
        "train_x.reset_index(drop = True, inplace = True)\n",
        "\n",
        "print(train_x.shape, train_y.shape)"
      ],
      "metadata": {
        "colab": {
          "base_uri": "https://localhost:8080/"
        },
        "id": "Om4goFtVQTDR",
        "outputId": "8c0bcab9-b645-4e72-f2ed-d3dfaed796c7"
      },
      "execution_count": null,
      "outputs": [
        {
          "output_type": "stream",
          "name": "stdout",
          "text": [
            "(424, 6) (424,)\n"
          ]
        }
      ]
    },
    {
      "cell_type": "code",
      "source": [
        "# 문자열인 \"Buyer Region\" 변수를 One-hot Encoder를 통해 One-Hot Vector로 변환\n",
        "# One-Hot Encoder 사용 예시 참고: https://psystat.tistory.com/136\n",
        "# 주의! Train/Test를 나눈 후에 Encoder를 통해 Categorical 변수를 Vector화시킨다!\n",
        "# LabelEncoder는 Target Value에 적용해야하지, input인 x에 적용하면 안 된다고 함!!! (참고: https://stackoverflow.com/questions/61217713/labelencoder-for-categorical-features/61217936#61217936)\n",
        "\n",
        "from sklearn.preprocessing import OneHotEncoder\n",
        "\n",
        "ohe = OneHotEncoder(sparse = False, handle_unknown= 'ignore') # handle_unknown = 'ignore': Train 데이터를 기준으로 OneHot Encoder가 Fit하는데, Valid나 Test Set에서 Train 데이터에서 못 본 데이터가 있을 경우, 해당 Categorical Value는 0, 0, 0, ..., 0 과 같이 다 값이 0인 벡터로 바꿈\n",
        "train_cat = ohe.fit_transform(train_x[['Buyer Region']])\n",
        "test_cat = ohe.transform(test_x[['Buyer Region']])\n",
        "\n",
        "# Buyer Region 변수를 OneHot Encoding 적용한 후 원래 데이터 프레임에 합쳐주기\n",
        "oh_train_df = pd.DataFrame(train_cat, columns = ['Buyer Region_' + col for col in ohe.categories_[0]])\n",
        "train_x = pd.concat([train_x.drop(columns = ['Buyer Region']), oh_train_df], axis = 1)\n",
        "\n",
        "oh_test_df = pd.DataFrame(test_cat, columns = ['Buyer Region_' + col for col in ohe.categories_[0]])\n",
        "test_x = pd.concat([test_x.drop(columns = ['Buyer Region']), oh_test_df], axis = 1)\n",
        "\n",
        "print((train_x.shape, train_y.shape))\n",
        "print((test_x.shape, test_y.shape))"
      ],
      "metadata": {
        "colab": {
          "base_uri": "https://localhost:8080/"
        },
        "id": "YPSyzmTOQXjF",
        "outputId": "4e7121bb-3efa-4862-94e6-c90dfeb195c9"
      },
      "execution_count": null,
      "outputs": [
        {
          "output_type": "stream",
          "name": "stdout",
          "text": [
            "((424, 47), (424,))\n",
            "((107, 47), (107,))\n"
          ]
        }
      ]
    },
    {
      "cell_type": "code",
      "source": [
        "train_x.describe()"
      ],
      "metadata": {
        "colab": {
          "base_uri": "https://localhost:8080/",
          "height": 399
        },
        "id": "X7G2-XhXQa-e",
        "outputId": "3254667e-882f-419a-ae8d-2f190718c32c"
      },
      "execution_count": null,
      "outputs": [
        {
          "output_type": "execute_result",
          "data": {
            "text/html": [
              "\n",
              "  <div id=\"df-030f2917-17c0-4944-aa32-20f7fca566dd\">\n",
              "    <div class=\"colab-df-container\">\n",
              "      <div>\n",
              "<style scoped>\n",
              "    .dataframe tbody tr th:only-of-type {\n",
              "        vertical-align: middle;\n",
              "    }\n",
              "\n",
              "    .dataframe tbody tr th {\n",
              "        vertical-align: top;\n",
              "    }\n",
              "\n",
              "    .dataframe thead th {\n",
              "        text-align: right;\n",
              "    }\n",
              "</style>\n",
              "<table border=\"1\" class=\"dataframe\">\n",
              "  <thead>\n",
              "    <tr style=\"text-align: right;\">\n",
              "      <th></th>\n",
              "      <th>Order Date</th>\n",
              "      <th>Sale Price</th>\n",
              "      <th>Shoe Size</th>\n",
              "      <th>Days After Release</th>\n",
              "      <th>Previous Order Date</th>\n",
              "      <th>Buyer Region_Alabama</th>\n",
              "      <th>Buyer Region_Alaska</th>\n",
              "      <th>Buyer Region_Arizona</th>\n",
              "      <th>Buyer Region_California</th>\n",
              "      <th>Buyer Region_Colorado</th>\n",
              "      <th>Buyer Region_Connecticut</th>\n",
              "      <th>Buyer Region_Delaware</th>\n",
              "      <th>Buyer Region_District of Columbia</th>\n",
              "      <th>Buyer Region_Florida</th>\n",
              "      <th>Buyer Region_Georgia</th>\n",
              "      <th>Buyer Region_Hawaii</th>\n",
              "      <th>Buyer Region_Idaho</th>\n",
              "      <th>Buyer Region_Illinois</th>\n",
              "      <th>Buyer Region_Indiana</th>\n",
              "      <th>Buyer Region_Iowa</th>\n",
              "      <th>Buyer Region_Kansas</th>\n",
              "      <th>Buyer Region_Kentucky</th>\n",
              "      <th>Buyer Region_Louisiana</th>\n",
              "      <th>Buyer Region_Maine</th>\n",
              "      <th>Buyer Region_Maryland</th>\n",
              "      <th>Buyer Region_Massachusetts</th>\n",
              "      <th>Buyer Region_Michigan</th>\n",
              "      <th>Buyer Region_Minnesota</th>\n",
              "      <th>Buyer Region_Nebraska</th>\n",
              "      <th>Buyer Region_Nevada</th>\n",
              "      <th>Buyer Region_New Hampshire</th>\n",
              "      <th>Buyer Region_New Jersey</th>\n",
              "      <th>Buyer Region_New Mexico</th>\n",
              "      <th>Buyer Region_New York</th>\n",
              "      <th>Buyer Region_North Carolina</th>\n",
              "      <th>Buyer Region_Ohio</th>\n",
              "      <th>Buyer Region_Oklahoma</th>\n",
              "      <th>Buyer Region_Oregon</th>\n",
              "      <th>Buyer Region_Pennsylvania</th>\n",
              "      <th>Buyer Region_South Carolina</th>\n",
              "      <th>Buyer Region_South Dakota</th>\n",
              "      <th>Buyer Region_Tennessee</th>\n",
              "      <th>Buyer Region_Texas</th>\n",
              "      <th>Buyer Region_Utah</th>\n",
              "      <th>Buyer Region_Virginia</th>\n",
              "      <th>Buyer Region_Washington</th>\n",
              "      <th>Buyer Region_Wisconsin</th>\n",
              "    </tr>\n",
              "  </thead>\n",
              "  <tbody>\n",
              "    <tr>\n",
              "      <th>count</th>\n",
              "      <td>424.00000</td>\n",
              "      <td>424.000000</td>\n",
              "      <td>424.000000</td>\n",
              "      <td>424.00000</td>\n",
              "      <td>424.000000</td>\n",
              "      <td>424.000000</td>\n",
              "      <td>424.000000</td>\n",
              "      <td>424.000000</td>\n",
              "      <td>424.000000</td>\n",
              "      <td>424.000000</td>\n",
              "      <td>424.000000</td>\n",
              "      <td>424.000000</td>\n",
              "      <td>424.000000</td>\n",
              "      <td>424.000000</td>\n",
              "      <td>424.000000</td>\n",
              "      <td>424.000000</td>\n",
              "      <td>424.000000</td>\n",
              "      <td>424.000000</td>\n",
              "      <td>424.000000</td>\n",
              "      <td>424.000000</td>\n",
              "      <td>424.000000</td>\n",
              "      <td>424.000000</td>\n",
              "      <td>424.000000</td>\n",
              "      <td>424.000000</td>\n",
              "      <td>424.000000</td>\n",
              "      <td>424.000000</td>\n",
              "      <td>424.000000</td>\n",
              "      <td>424.000000</td>\n",
              "      <td>424.000000</td>\n",
              "      <td>424.000000</td>\n",
              "      <td>424.000000</td>\n",
              "      <td>424.000000</td>\n",
              "      <td>424.000000</td>\n",
              "      <td>424.00000</td>\n",
              "      <td>424.000000</td>\n",
              "      <td>424.000000</td>\n",
              "      <td>424.000000</td>\n",
              "      <td>424.000000</td>\n",
              "      <td>424.000000</td>\n",
              "      <td>424.000000</td>\n",
              "      <td>424.000000</td>\n",
              "      <td>424.000000</td>\n",
              "      <td>424.000000</td>\n",
              "      <td>424.000000</td>\n",
              "      <td>424.000000</td>\n",
              "      <td>424.000000</td>\n",
              "      <td>424.000000</td>\n",
              "    </tr>\n",
              "    <tr>\n",
              "      <th>mean</th>\n",
              "      <td>736784.50000</td>\n",
              "      <td>412.299528</td>\n",
              "      <td>275.176887</td>\n",
              "      <td>336.50000</td>\n",
              "      <td>736784.752358</td>\n",
              "      <td>0.004717</td>\n",
              "      <td>0.002358</td>\n",
              "      <td>0.028302</td>\n",
              "      <td>0.172170</td>\n",
              "      <td>0.016509</td>\n",
              "      <td>0.016509</td>\n",
              "      <td>0.009434</td>\n",
              "      <td>0.002358</td>\n",
              "      <td>0.068396</td>\n",
              "      <td>0.018868</td>\n",
              "      <td>0.004717</td>\n",
              "      <td>0.004717</td>\n",
              "      <td>0.023585</td>\n",
              "      <td>0.016509</td>\n",
              "      <td>0.004717</td>\n",
              "      <td>0.007075</td>\n",
              "      <td>0.002358</td>\n",
              "      <td>0.004717</td>\n",
              "      <td>0.004717</td>\n",
              "      <td>0.007075</td>\n",
              "      <td>0.028302</td>\n",
              "      <td>0.037736</td>\n",
              "      <td>0.004717</td>\n",
              "      <td>0.004717</td>\n",
              "      <td>0.011792</td>\n",
              "      <td>0.004717</td>\n",
              "      <td>0.044811</td>\n",
              "      <td>0.002358</td>\n",
              "      <td>0.12500</td>\n",
              "      <td>0.014151</td>\n",
              "      <td>0.018868</td>\n",
              "      <td>0.002358</td>\n",
              "      <td>0.087264</td>\n",
              "      <td>0.021226</td>\n",
              "      <td>0.004717</td>\n",
              "      <td>0.002358</td>\n",
              "      <td>0.007075</td>\n",
              "      <td>0.080189</td>\n",
              "      <td>0.002358</td>\n",
              "      <td>0.028302</td>\n",
              "      <td>0.035377</td>\n",
              "      <td>0.011792</td>\n",
              "    </tr>\n",
              "    <tr>\n",
              "      <th>std</th>\n",
              "      <td>122.54251</td>\n",
              "      <td>82.018838</td>\n",
              "      <td>19.985913</td>\n",
              "      <td>122.54251</td>\n",
              "      <td>123.088054</td>\n",
              "      <td>0.068599</td>\n",
              "      <td>0.048564</td>\n",
              "      <td>0.166030</td>\n",
              "      <td>0.377974</td>\n",
              "      <td>0.127575</td>\n",
              "      <td>0.127575</td>\n",
              "      <td>0.096784</td>\n",
              "      <td>0.048564</td>\n",
              "      <td>0.252723</td>\n",
              "      <td>0.136219</td>\n",
              "      <td>0.068599</td>\n",
              "      <td>0.068599</td>\n",
              "      <td>0.151931</td>\n",
              "      <td>0.127575</td>\n",
              "      <td>0.068599</td>\n",
              "      <td>0.083917</td>\n",
              "      <td>0.048564</td>\n",
              "      <td>0.068599</td>\n",
              "      <td>0.068599</td>\n",
              "      <td>0.083917</td>\n",
              "      <td>0.166030</td>\n",
              "      <td>0.190782</td>\n",
              "      <td>0.068599</td>\n",
              "      <td>0.068599</td>\n",
              "      <td>0.108078</td>\n",
              "      <td>0.068599</td>\n",
              "      <td>0.207134</td>\n",
              "      <td>0.048564</td>\n",
              "      <td>0.33111</td>\n",
              "      <td>0.118253</td>\n",
              "      <td>0.136219</td>\n",
              "      <td>0.048564</td>\n",
              "      <td>0.282555</td>\n",
              "      <td>0.144309</td>\n",
              "      <td>0.068599</td>\n",
              "      <td>0.048564</td>\n",
              "      <td>0.083917</td>\n",
              "      <td>0.271906</td>\n",
              "      <td>0.048564</td>\n",
              "      <td>0.166030</td>\n",
              "      <td>0.184950</td>\n",
              "      <td>0.108078</td>\n",
              "    </tr>\n",
              "    <tr>\n",
              "      <th>min</th>\n",
              "      <td>736573.00000</td>\n",
              "      <td>207.000000</td>\n",
              "      <td>220.000000</td>\n",
              "      <td>125.00000</td>\n",
              "      <td>736573.000000</td>\n",
              "      <td>0.000000</td>\n",
              "      <td>0.000000</td>\n",
              "      <td>0.000000</td>\n",
              "      <td>0.000000</td>\n",
              "      <td>0.000000</td>\n",
              "      <td>0.000000</td>\n",
              "      <td>0.000000</td>\n",
              "      <td>0.000000</td>\n",
              "      <td>0.000000</td>\n",
              "      <td>0.000000</td>\n",
              "      <td>0.000000</td>\n",
              "      <td>0.000000</td>\n",
              "      <td>0.000000</td>\n",
              "      <td>0.000000</td>\n",
              "      <td>0.000000</td>\n",
              "      <td>0.000000</td>\n",
              "      <td>0.000000</td>\n",
              "      <td>0.000000</td>\n",
              "      <td>0.000000</td>\n",
              "      <td>0.000000</td>\n",
              "      <td>0.000000</td>\n",
              "      <td>0.000000</td>\n",
              "      <td>0.000000</td>\n",
              "      <td>0.000000</td>\n",
              "      <td>0.000000</td>\n",
              "      <td>0.000000</td>\n",
              "      <td>0.000000</td>\n",
              "      <td>0.000000</td>\n",
              "      <td>0.00000</td>\n",
              "      <td>0.000000</td>\n",
              "      <td>0.000000</td>\n",
              "      <td>0.000000</td>\n",
              "      <td>0.000000</td>\n",
              "      <td>0.000000</td>\n",
              "      <td>0.000000</td>\n",
              "      <td>0.000000</td>\n",
              "      <td>0.000000</td>\n",
              "      <td>0.000000</td>\n",
              "      <td>0.000000</td>\n",
              "      <td>0.000000</td>\n",
              "      <td>0.000000</td>\n",
              "      <td>0.000000</td>\n",
              "    </tr>\n",
              "    <tr>\n",
              "      <th>25%</th>\n",
              "      <td>736678.75000</td>\n",
              "      <td>370.000000</td>\n",
              "      <td>265.000000</td>\n",
              "      <td>230.75000</td>\n",
              "      <td>736678.750000</td>\n",
              "      <td>0.000000</td>\n",
              "      <td>0.000000</td>\n",
              "      <td>0.000000</td>\n",
              "      <td>0.000000</td>\n",
              "      <td>0.000000</td>\n",
              "      <td>0.000000</td>\n",
              "      <td>0.000000</td>\n",
              "      <td>0.000000</td>\n",
              "      <td>0.000000</td>\n",
              "      <td>0.000000</td>\n",
              "      <td>0.000000</td>\n",
              "      <td>0.000000</td>\n",
              "      <td>0.000000</td>\n",
              "      <td>0.000000</td>\n",
              "      <td>0.000000</td>\n",
              "      <td>0.000000</td>\n",
              "      <td>0.000000</td>\n",
              "      <td>0.000000</td>\n",
              "      <td>0.000000</td>\n",
              "      <td>0.000000</td>\n",
              "      <td>0.000000</td>\n",
              "      <td>0.000000</td>\n",
              "      <td>0.000000</td>\n",
              "      <td>0.000000</td>\n",
              "      <td>0.000000</td>\n",
              "      <td>0.000000</td>\n",
              "      <td>0.000000</td>\n",
              "      <td>0.000000</td>\n",
              "      <td>0.00000</td>\n",
              "      <td>0.000000</td>\n",
              "      <td>0.000000</td>\n",
              "      <td>0.000000</td>\n",
              "      <td>0.000000</td>\n",
              "      <td>0.000000</td>\n",
              "      <td>0.000000</td>\n",
              "      <td>0.000000</td>\n",
              "      <td>0.000000</td>\n",
              "      <td>0.000000</td>\n",
              "      <td>0.000000</td>\n",
              "      <td>0.000000</td>\n",
              "      <td>0.000000</td>\n",
              "      <td>0.000000</td>\n",
              "    </tr>\n",
              "    <tr>\n",
              "      <th>50%</th>\n",
              "      <td>736784.50000</td>\n",
              "      <td>415.000000</td>\n",
              "      <td>275.000000</td>\n",
              "      <td>336.50000</td>\n",
              "      <td>736784.500000</td>\n",
              "      <td>0.000000</td>\n",
              "      <td>0.000000</td>\n",
              "      <td>0.000000</td>\n",
              "      <td>0.000000</td>\n",
              "      <td>0.000000</td>\n",
              "      <td>0.000000</td>\n",
              "      <td>0.000000</td>\n",
              "      <td>0.000000</td>\n",
              "      <td>0.000000</td>\n",
              "      <td>0.000000</td>\n",
              "      <td>0.000000</td>\n",
              "      <td>0.000000</td>\n",
              "      <td>0.000000</td>\n",
              "      <td>0.000000</td>\n",
              "      <td>0.000000</td>\n",
              "      <td>0.000000</td>\n",
              "      <td>0.000000</td>\n",
              "      <td>0.000000</td>\n",
              "      <td>0.000000</td>\n",
              "      <td>0.000000</td>\n",
              "      <td>0.000000</td>\n",
              "      <td>0.000000</td>\n",
              "      <td>0.000000</td>\n",
              "      <td>0.000000</td>\n",
              "      <td>0.000000</td>\n",
              "      <td>0.000000</td>\n",
              "      <td>0.000000</td>\n",
              "      <td>0.000000</td>\n",
              "      <td>0.00000</td>\n",
              "      <td>0.000000</td>\n",
              "      <td>0.000000</td>\n",
              "      <td>0.000000</td>\n",
              "      <td>0.000000</td>\n",
              "      <td>0.000000</td>\n",
              "      <td>0.000000</td>\n",
              "      <td>0.000000</td>\n",
              "      <td>0.000000</td>\n",
              "      <td>0.000000</td>\n",
              "      <td>0.000000</td>\n",
              "      <td>0.000000</td>\n",
              "      <td>0.000000</td>\n",
              "      <td>0.000000</td>\n",
              "    </tr>\n",
              "    <tr>\n",
              "      <th>75%</th>\n",
              "      <td>736890.25000</td>\n",
              "      <td>452.750000</td>\n",
              "      <td>290.000000</td>\n",
              "      <td>442.25000</td>\n",
              "      <td>736890.250000</td>\n",
              "      <td>0.000000</td>\n",
              "      <td>0.000000</td>\n",
              "      <td>0.000000</td>\n",
              "      <td>0.000000</td>\n",
              "      <td>0.000000</td>\n",
              "      <td>0.000000</td>\n",
              "      <td>0.000000</td>\n",
              "      <td>0.000000</td>\n",
              "      <td>0.000000</td>\n",
              "      <td>0.000000</td>\n",
              "      <td>0.000000</td>\n",
              "      <td>0.000000</td>\n",
              "      <td>0.000000</td>\n",
              "      <td>0.000000</td>\n",
              "      <td>0.000000</td>\n",
              "      <td>0.000000</td>\n",
              "      <td>0.000000</td>\n",
              "      <td>0.000000</td>\n",
              "      <td>0.000000</td>\n",
              "      <td>0.000000</td>\n",
              "      <td>0.000000</td>\n",
              "      <td>0.000000</td>\n",
              "      <td>0.000000</td>\n",
              "      <td>0.000000</td>\n",
              "      <td>0.000000</td>\n",
              "      <td>0.000000</td>\n",
              "      <td>0.000000</td>\n",
              "      <td>0.000000</td>\n",
              "      <td>0.00000</td>\n",
              "      <td>0.000000</td>\n",
              "      <td>0.000000</td>\n",
              "      <td>0.000000</td>\n",
              "      <td>0.000000</td>\n",
              "      <td>0.000000</td>\n",
              "      <td>0.000000</td>\n",
              "      <td>0.000000</td>\n",
              "      <td>0.000000</td>\n",
              "      <td>0.000000</td>\n",
              "      <td>0.000000</td>\n",
              "      <td>0.000000</td>\n",
              "      <td>0.000000</td>\n",
              "      <td>0.000000</td>\n",
              "    </tr>\n",
              "    <tr>\n",
              "      <th>max</th>\n",
              "      <td>736996.00000</td>\n",
              "      <td>659.000000</td>\n",
              "      <td>320.000000</td>\n",
              "      <td>548.00000</td>\n",
              "      <td>737103.000000</td>\n",
              "      <td>1.000000</td>\n",
              "      <td>1.000000</td>\n",
              "      <td>1.000000</td>\n",
              "      <td>1.000000</td>\n",
              "      <td>1.000000</td>\n",
              "      <td>1.000000</td>\n",
              "      <td>1.000000</td>\n",
              "      <td>1.000000</td>\n",
              "      <td>1.000000</td>\n",
              "      <td>1.000000</td>\n",
              "      <td>1.000000</td>\n",
              "      <td>1.000000</td>\n",
              "      <td>1.000000</td>\n",
              "      <td>1.000000</td>\n",
              "      <td>1.000000</td>\n",
              "      <td>1.000000</td>\n",
              "      <td>1.000000</td>\n",
              "      <td>1.000000</td>\n",
              "      <td>1.000000</td>\n",
              "      <td>1.000000</td>\n",
              "      <td>1.000000</td>\n",
              "      <td>1.000000</td>\n",
              "      <td>1.000000</td>\n",
              "      <td>1.000000</td>\n",
              "      <td>1.000000</td>\n",
              "      <td>1.000000</td>\n",
              "      <td>1.000000</td>\n",
              "      <td>1.000000</td>\n",
              "      <td>1.00000</td>\n",
              "      <td>1.000000</td>\n",
              "      <td>1.000000</td>\n",
              "      <td>1.000000</td>\n",
              "      <td>1.000000</td>\n",
              "      <td>1.000000</td>\n",
              "      <td>1.000000</td>\n",
              "      <td>1.000000</td>\n",
              "      <td>1.000000</td>\n",
              "      <td>1.000000</td>\n",
              "      <td>1.000000</td>\n",
              "      <td>1.000000</td>\n",
              "      <td>1.000000</td>\n",
              "      <td>1.000000</td>\n",
              "    </tr>\n",
              "  </tbody>\n",
              "</table>\n",
              "</div>\n",
              "      <button class=\"colab-df-convert\" onclick=\"convertToInteractive('df-030f2917-17c0-4944-aa32-20f7fca566dd')\"\n",
              "              title=\"Convert this dataframe to an interactive table.\"\n",
              "              style=\"display:none;\">\n",
              "        \n",
              "  <svg xmlns=\"http://www.w3.org/2000/svg\" height=\"24px\"viewBox=\"0 0 24 24\"\n",
              "       width=\"24px\">\n",
              "    <path d=\"M0 0h24v24H0V0z\" fill=\"none\"/>\n",
              "    <path d=\"M18.56 5.44l.94 2.06.94-2.06 2.06-.94-2.06-.94-.94-2.06-.94 2.06-2.06.94zm-11 1L8.5 8.5l.94-2.06 2.06-.94-2.06-.94L8.5 2.5l-.94 2.06-2.06.94zm10 10l.94 2.06.94-2.06 2.06-.94-2.06-.94-.94-2.06-.94 2.06-2.06.94z\"/><path d=\"M17.41 7.96l-1.37-1.37c-.4-.4-.92-.59-1.43-.59-.52 0-1.04.2-1.43.59L10.3 9.45l-7.72 7.72c-.78.78-.78 2.05 0 2.83L4 21.41c.39.39.9.59 1.41.59.51 0 1.02-.2 1.41-.59l7.78-7.78 2.81-2.81c.8-.78.8-2.07 0-2.86zM5.41 20L4 18.59l7.72-7.72 1.47 1.35L5.41 20z\"/>\n",
              "  </svg>\n",
              "      </button>\n",
              "      \n",
              "  <style>\n",
              "    .colab-df-container {\n",
              "      display:flex;\n",
              "      flex-wrap:wrap;\n",
              "      gap: 12px;\n",
              "    }\n",
              "\n",
              "    .colab-df-convert {\n",
              "      background-color: #E8F0FE;\n",
              "      border: none;\n",
              "      border-radius: 50%;\n",
              "      cursor: pointer;\n",
              "      display: none;\n",
              "      fill: #1967D2;\n",
              "      height: 32px;\n",
              "      padding: 0 0 0 0;\n",
              "      width: 32px;\n",
              "    }\n",
              "\n",
              "    .colab-df-convert:hover {\n",
              "      background-color: #E2EBFA;\n",
              "      box-shadow: 0px 1px 2px rgba(60, 64, 67, 0.3), 0px 1px 3px 1px rgba(60, 64, 67, 0.15);\n",
              "      fill: #174EA6;\n",
              "    }\n",
              "\n",
              "    [theme=dark] .colab-df-convert {\n",
              "      background-color: #3B4455;\n",
              "      fill: #D2E3FC;\n",
              "    }\n",
              "\n",
              "    [theme=dark] .colab-df-convert:hover {\n",
              "      background-color: #434B5C;\n",
              "      box-shadow: 0px 1px 3px 1px rgba(0, 0, 0, 0.15);\n",
              "      filter: drop-shadow(0px 1px 2px rgba(0, 0, 0, 0.3));\n",
              "      fill: #FFFFFF;\n",
              "    }\n",
              "  </style>\n",
              "\n",
              "      <script>\n",
              "        const buttonEl =\n",
              "          document.querySelector('#df-030f2917-17c0-4944-aa32-20f7fca566dd button.colab-df-convert');\n",
              "        buttonEl.style.display =\n",
              "          google.colab.kernel.accessAllowed ? 'block' : 'none';\n",
              "\n",
              "        async function convertToInteractive(key) {\n",
              "          const element = document.querySelector('#df-030f2917-17c0-4944-aa32-20f7fca566dd');\n",
              "          const dataTable =\n",
              "            await google.colab.kernel.invokeFunction('convertToInteractive',\n",
              "                                                     [key], {});\n",
              "          if (!dataTable) return;\n",
              "\n",
              "          const docLinkHtml = 'Like what you see? Visit the ' +\n",
              "            '<a target=\"_blank\" href=https://colab.research.google.com/notebooks/data_table.ipynb>data table notebook</a>'\n",
              "            + ' to learn more about interactive tables.';\n",
              "          element.innerHTML = '';\n",
              "          dataTable['output_type'] = 'display_data';\n",
              "          await google.colab.output.renderOutput(dataTable, element);\n",
              "          const docLink = document.createElement('div');\n",
              "          docLink.innerHTML = docLinkHtml;\n",
              "          element.appendChild(docLink);\n",
              "        }\n",
              "      </script>\n",
              "    </div>\n",
              "  </div>\n",
              "  "
            ],
            "text/plain": [
              "         Order Date  ...  Buyer Region_Wisconsin\n",
              "count     424.00000  ...              424.000000\n",
              "mean   736784.50000  ...                0.011792\n",
              "std       122.54251  ...                0.108078\n",
              "min    736573.00000  ...                0.000000\n",
              "25%    736678.75000  ...                0.000000\n",
              "50%    736784.50000  ...                0.000000\n",
              "75%    736890.25000  ...                0.000000\n",
              "max    736996.00000  ...                1.000000\n",
              "\n",
              "[8 rows x 47 columns]"
            ]
          },
          "metadata": {},
          "execution_count": 117
        }
      ]
    }
  ]
}